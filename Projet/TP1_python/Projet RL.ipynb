{
 "cells": [
  {
   "cell_type": "markdown",
   "metadata": {},
   "source": [
    "# Curriculum Learning"
   ]
  },
  {
   "cell_type": "markdown",
   "metadata": {},
   "source": [
    "### Reverse Curriculum Learning "
   ]
  },
  {
   "cell_type": "code",
   "execution_count": 1,
   "metadata": {},
   "outputs": [],
   "source": [
    "from gridworld import GridWorld1\n",
    "import gridrender as gui\n",
    "import numpy as np\n",
    "import time"
   ]
  },
  {
   "cell_type": "code",
   "execution_count": 2,
   "metadata": {},
   "outputs": [],
   "source": [
    "env = GridWorld1"
   ]
  },
  {
   "cell_type": "code",
   "execution_count": 3,
   "metadata": {},
   "outputs": [
    {
     "name": "stdout",
     "output_type": "stream",
     "text": [
      "0 7 0.0 False 1\n",
      "7 8 0.0 False 0\n",
      "8 1 0.0 False 3\n",
      "1 8 0.0 False 1\n",
      "8 1 0.0 False 3\n"
     ]
    }
   ],
   "source": [
    "state = 0\n",
    "for i in range(5):\n",
    "    action = np.random.choice(env.state_actions[state])\n",
    "    nexts, reward, term = env.step(state,action)\n",
    "    print(state, nexts, reward, term, action)\n",
    "    state = nexts"
   ]
  },
  {
   "cell_type": "code",
   "execution_count": 12,
   "metadata": {},
   "outputs": [
    {
     "data": {
      "text/plain": [
       "array([16,  1, 10,  1,  6, 17,  3,  7,  0,  1])"
      ]
     },
     "execution_count": 12,
     "metadata": {},
     "output_type": "execute_result"
    }
   ],
   "source": [
    "def SampleNearby(starts, N_new, Tb, M):\n",
    "    starts = starts.copy()\n",
    "    while(len(starts)<M):\n",
    "        state = np.random.choice(starts)\n",
    "        t = 0\n",
    "        term = False\n",
    "        while t<Tb and term == False:\n",
    "            action = np.random.choice(env.state_actions[state]) # np.random.normal(0, Sigma) changed to be adapted to the environment\n",
    "            state, rewards, term = env.step(state, action)\n",
    "            t +=1\n",
    "            starts.append(state)\n",
    "    starts_new = np.random.choice(starts, N_new, replace = False)\n",
    "    return starts_new\n",
    "\n",
    "starts = [0,3,6]\n",
    "N_new = 10\n",
    "Tb = 3\n",
    "M = 15\n",
    "SampleNearby(starts, N_new, Tb, M)"
   ]
  },
  {
   "cell_type": "code",
   "execution_count": 7,
   "metadata": {},
   "outputs": [
    {
     "data": {
      "text/plain": [
       "[0, 1]"
      ]
     },
     "execution_count": 7,
     "metadata": {},
     "output_type": "execute_result"
    }
   ],
   "source": [
    "def PolicyTraining(pi0, sg, rho0, N_new, N_old, R_min, R_max, Iter):\n",
    "    "
   ]
  },
  {
   "cell_type": "code",
   "execution_count": 18,
   "metadata": {},
   "outputs": [
    {
     "data": {
      "text/plain": [
       "0.4302418522849591"
      ]
     },
     "execution_count": 18,
     "metadata": {},
     "output_type": "execute_result"
    }
   ],
   "source": [
    "Sigma = 1\n",
    "np.random.normal(0, Sigma)"
   ]
  },
  {
   "cell_type": "code",
   "execution_count": 8,
   "metadata": {},
   "outputs": [
    {
     "data": {
      "text/plain": [
       "[0, 1]"
      ]
     },
     "execution_count": 8,
     "metadata": {},
     "output_type": "execute_result"
    }
   ],
   "source": [
    "env.state_actions[0]"
   ]
  },
  {
   "cell_type": "code",
   "execution_count": null,
   "metadata": {
    "collapsed": true
   },
   "outputs": [],
   "source": []
  }
 ],
 "metadata": {
  "kernelspec": {
   "display_name": "Python 3",
   "language": "python",
   "name": "python3"
  },
  "language_info": {
   "codemirror_mode": {
    "name": "ipython",
    "version": 3
   },
   "file_extension": ".py",
   "mimetype": "text/x-python",
   "name": "python",
   "nbconvert_exporter": "python",
   "pygments_lexer": "ipython3",
   "version": "3.6.3"
  }
 },
 "nbformat": 4,
 "nbformat_minor": 2
}
